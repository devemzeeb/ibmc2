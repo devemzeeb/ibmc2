{
 "cells": [
  {
   "cell_type": "markdown",
   "id": "df287b38-2bee-40aa-8567-97ef54868967",
   "metadata": {},
   "source": [
    "# My Jupyter Notebook on IBM Watson Studio"
   ]
  },
  {
   "cell_type": "markdown",
   "id": "e1535401-b7f6-4566-9fc6-0cff08eeac46",
   "metadata": {},
   "source": [
    "**John Doe**"
   ]
  },
  {
   "cell_type": "markdown",
   "id": "3aa8db43-79fb-49c5-9298-d0269bddc2ac",
   "metadata": {},
   "source": [
    "Desired occupation: Data Analyst"
   ]
  },
  {
   "cell_type": "markdown",
   "id": "c1b4a11f-cde5-4701-8330-ef4ebeeca230",
   "metadata": {},
   "source": [
    "*I am interested in data science because it allows me to make sense of vast amounts of data and turn it into valuable insights and predictions that can inform decision-making.*"
   ]
  },
  {
   "cell_type": "markdown",
   "id": "7afb2313-465d-4331-a25c-69cca9c18a6a",
   "metadata": {},
   "source": [
    "### Doing a simple addition"
   ]
  },
  {
   "cell_type": "code",
   "execution_count": 2,
   "id": "bfe70238-2a98-4ca6-944b-f2e6a265b560",
   "metadata": {},
   "outputs": [
    {
     "name": "stdout",
     "output_type": "stream",
     "text": [
      "Sum:  34\n"
     ]
    }
   ],
   "source": [
    "x = 5\n",
    "y = 10\n",
    "z = 19\n",
    "print(\"Sum: \", x+y+z)"
   ]
  },
  {
   "cell_type": "markdown",
   "id": "3749af92-45e8-4065-bd15-0546abd7e85e",
   "metadata": {},
   "source": [
    "---\n"
   ]
  },
  {
   "cell_type": "markdown",
   "id": "ecb4cda2-d762-4590-b545-c3b938d40797",
   "metadata": {},
   "source": [
    "- Apple\n",
    "- Banana\n",
    "- Blackberry"
   ]
  },
  {
   "cell_type": "markdown",
   "id": "a208ca4c-7335-4c71-929a-c748f1666959",
   "metadata": {},
   "source": [
    "1. Apple\n",
    "2. Banana\n",
    "3. Blackberry"
   ]
  },
  {
   "cell_type": "markdown",
   "id": "ac34d03d-ff67-44bf-934f-4153ae813487",
   "metadata": {},
   "source": [
    "Click to go to [Google](https://www.google.com)"
   ]
  },
  {
   "cell_type": "markdown",
   "id": "1d1be49a-186c-4f6b-9544-dff0c53b69e1",
   "metadata": {},
   "source": [
    "> This is a blocked quote."
   ]
  },
  {
   "cell_type": "markdown",
   "id": "186d1173-f9e7-43d3-a3cd-2cc2f0697b34",
   "metadata": {},
   "source": [
    "~~strikethrough~~."
   ]
  }
 ],
 "metadata": {
  "kernelspec": {
   "display_name": "Python",
   "language": "python",
   "name": "conda-env-python-py"
  },
  "language_info": {
   "codemirror_mode": {
    "name": "ipython",
    "version": 3
   },
   "file_extension": ".py",
   "mimetype": "text/x-python",
   "name": "python",
   "nbconvert_exporter": "python",
   "pygments_lexer": "ipython3",
   "version": "3.7.12"
  }
 },
 "nbformat": 4,
 "nbformat_minor": 5
}
